{
 "cells": [
  {
   "cell_type": "code",
   "execution_count": 1,
   "id": "3a17c5b0-67a1-4d45-b042-e96cbc29916c",
   "metadata": {},
   "outputs": [
    {
     "name": "stderr",
     "output_type": "stream",
     "text": [
      "2024-02-07 10:15:00.210075: I tensorflow/core/util/port.cc:113] oneDNN custom operations are on. You may see slightly different numerical results due to floating-point round-off errors from different computation orders. To turn them off, set the environment variable `TF_ENABLE_ONEDNN_OPTS=0`.\n",
      "2024-02-07 10:15:00.582147: I tensorflow/core/platform/cpu_feature_guard.cc:210] This TensorFlow binary is optimized to use available CPU instructions in performance-critical operations.\n",
      "To enable the following instructions: AVX2 AVX_VNNI FMA, in other operations, rebuild TensorFlow with the appropriate compiler flags.\n"
     ]
    }
   ],
   "source": [
    "from tensorflow import keras"
   ]
  },
  {
   "cell_type": "code",
   "execution_count": null,
   "id": "d7071cf2-5256-4fe4-8ffb-eddec1765152",
   "metadata": {},
   "outputs": [],
   "source": [
    "class test_Layer(keras.layers.Layer):\n",
    "    def __init__(self, units, activation = None):\n",
    "        super().__init__()\n",
    "\n",
    "        self.units = units\n",
    "        self.activation = activation\n",
    "\n",
    "    def build(self, input_shape):\n",
    "        pass\n",
    "\n",
    "    def call(self, inputs):\n",
    "        pass\n"
   ]
  },
  {
   "cell_type": "markdown",
   "id": "3fc687c3-92d9-4625-99ea-cee6ef07b9ac",
   "metadata": {},
   "source": [
    "main Class를 가지고 연결된 Layer의 파라미터를 설정 하도록 구현되어있음\n",
    "\n",
    "이로 인해서 가변적으로 변환 할수있다라는것을 볼수있음"
   ]
  }
 ],
 "metadata": {
  "kernelspec": {
   "display_name": "Python 3 (ipykernel)",
   "language": "python",
   "name": "python3"
  },
  "language_info": {
   "codemirror_mode": {
    "name": "ipython",
    "version": 3
   },
   "file_extension": ".py",
   "mimetype": "text/x-python",
   "name": "python",
   "nbconvert_exporter": "python",
   "pygments_lexer": "ipython3",
   "version": "3.11.0rc1"
  }
 },
 "nbformat": 4,
 "nbformat_minor": 5
}
